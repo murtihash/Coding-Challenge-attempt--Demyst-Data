{
 "cells": [
  {
   "cell_type": "code",
   "execution_count": 4,
   "metadata": {},
   "outputs": [],
   "source": [
    "import numpy as np\n",
    "import pandas as pd\n",
    "import matplotlib.pyplot as plt\n",
    "import seaborn as sns\n",
    "%matplotlib inline\n",
    "sns.set_style(\"whitegrid\")\n",
    "plt.rcParams[\"patch.force_edgecolor\"]=True\n",
    "import csv\n",
    "from demyst.analytics import Analytics                 #importing my most used libraries"
   ]
  },
  {
   "cell_type": "code",
   "execution_count": 2,
   "metadata": {},
   "outputs": [
    {
     "data": {
      "text/html": [
       "<div>\n",
       "<style scoped>\n",
       "    .dataframe tbody tr th:only-of-type {\n",
       "        vertical-align: middle;\n",
       "    }\n",
       "\n",
       "    .dataframe tbody tr th {\n",
       "        vertical-align: top;\n",
       "    }\n",
       "\n",
       "    .dataframe thead th {\n",
       "        text-align: right;\n",
       "    }\n",
       "</style>\n",
       "<table border=\"1\" class=\"dataframe\">\n",
       "  <thead>\n",
       "    <tr style=\"text-align: right;\">\n",
       "      <th></th>\n",
       "      <th>street</th>\n",
       "      <th>state</th>\n",
       "      <th>city</th>\n",
       "      <th>postcode</th>\n",
       "      <th>safety_flag</th>\n",
       "    </tr>\n",
       "  </thead>\n",
       "  <tbody>\n",
       "    <tr>\n",
       "      <th>0</th>\n",
       "      <td>3160 Otto Dr</td>\n",
       "      <td>FL</td>\n",
       "      <td>Lakeland</td>\n",
       "      <td>33812-5237</td>\n",
       "      <td>False</td>\n",
       "    </tr>\n",
       "    <tr>\n",
       "      <th>1</th>\n",
       "      <td>940 Tulip Dr</td>\n",
       "      <td>IN</td>\n",
       "      <td>Indianapolis</td>\n",
       "      <td>46227</td>\n",
       "      <td>False</td>\n",
       "    </tr>\n",
       "  </tbody>\n",
       "</table>\n",
       "</div>"
      ],
      "text/plain": [
       "         street state          city    postcode  safety_flag\n",
       "0  3160 Otto Dr    FL      Lakeland  33812-5237        False\n",
       "1  940 Tulip Dr    IN  Indianapolis       46227        False"
      ]
     },
     "execution_count": 2,
     "metadata": {},
     "output_type": "execute_result"
    }
   ],
   "source": [
    "df1= pd.read_csv('input.csv')# read csv, show first 2 records\n",
    "df1.head(2)"
   ]
  },
  {
   "cell_type": "code",
   "execution_count": 3,
   "metadata": {},
   "outputs": [
    {
     "data": {
      "text/html": [
       "<div>\n",
       "<style scoped>\n",
       "    .dataframe tbody tr th:only-of-type {\n",
       "        vertical-align: middle;\n",
       "    }\n",
       "\n",
       "    .dataframe tbody tr th {\n",
       "        vertical-align: top;\n",
       "    }\n",
       "\n",
       "    .dataframe thead th {\n",
       "        text-align: right;\n",
       "    }\n",
       "</style>\n",
       "<table border=\"1\" class=\"dataframe\">\n",
       "  <thead>\n",
       "    <tr style=\"text-align: right;\">\n",
       "      <th></th>\n",
       "      <th>street</th>\n",
       "      <th>state</th>\n",
       "      <th>city</th>\n",
       "      <th>postcode</th>\n",
       "      <th>safety_flag</th>\n",
       "    </tr>\n",
       "  </thead>\n",
       "  <tbody>\n",
       "    <tr>\n",
       "      <th>count</th>\n",
       "      <td>11229</td>\n",
       "      <td>11220</td>\n",
       "      <td>11220</td>\n",
       "      <td>11220</td>\n",
       "      <td>11229</td>\n",
       "    </tr>\n",
       "    <tr>\n",
       "      <th>unique</th>\n",
       "      <td>11198</td>\n",
       "      <td>59</td>\n",
       "      <td>4181</td>\n",
       "      <td>9127</td>\n",
       "      <td>2</td>\n",
       "    </tr>\n",
       "    <tr>\n",
       "      <th>top</th>\n",
       "      <td>190 E 98th St</td>\n",
       "      <td>CA</td>\n",
       "      <td>New York</td>\n",
       "      <td>94107</td>\n",
       "      <td>False</td>\n",
       "    </tr>\n",
       "    <tr>\n",
       "      <th>freq</th>\n",
       "      <td>4</td>\n",
       "      <td>1251</td>\n",
       "      <td>245</td>\n",
       "      <td>25</td>\n",
       "      <td>10119</td>\n",
       "    </tr>\n",
       "  </tbody>\n",
       "</table>\n",
       "</div>"
      ],
      "text/plain": [
       "                street  state      city postcode safety_flag\n",
       "count            11229  11220     11220    11220       11229\n",
       "unique           11198     59      4181     9127           2\n",
       "top     190 E 98th St      CA  New York    94107       False\n",
       "freq                 4   1251       245       25       10119"
      ]
     },
     "execution_count": 3,
     "metadata": {},
     "output_type": "execute_result"
    }
   ],
   "source": [
    "df1.describe() #get an overview of statistics of our input data\n",
    "               # 59 unique states seems a little weird. UPDATE: some state values have spaces thats why showing more"
   ]
  },
  {
   "cell_type": "code",
   "execution_count": 4,
   "metadata": {},
   "outputs": [
    {
     "name": "stdout",
     "output_type": "stream",
     "text": [
      "<class 'pandas.core.frame.DataFrame'>\n",
      "RangeIndex: 11229 entries, 0 to 11228\n",
      "Data columns (total 5 columns):\n",
      "street         11229 non-null object\n",
      "state          11220 non-null object\n",
      "city           11220 non-null object\n",
      "postcode       11220 non-null object\n",
      "safety_flag    11229 non-null bool\n",
      "dtypes: bool(1), object(4)\n",
      "memory usage: 362.0+ KB\n"
     ]
    }
   ],
   "source": [
    "df1.info() #to check the data types of the columns\n",
    "           # data has 9 nulls in State,City,Postcode\n",
    "           \n",
    "           # safety flag will need to be converted to 0 for false, 1 for true"
   ]
  },
  {
   "cell_type": "code",
   "execution_count": 5,
   "metadata": {},
   "outputs": [
    {
     "data": {
      "text/plain": [
       "False    10119\n",
       "True      1110\n",
       "Name: safety_flag, dtype: int64"
      ]
     },
     "execution_count": 5,
     "metadata": {},
     "output_type": "execute_result"
    },
    {
     "data": {
      "image/png": "[encoded data removed]",
      "text/plain": [
       "<Figure size 432x288 with 1 Axes>"
      ]
     },
     "metadata": {},
     "output_type": "display_data"
    }
   ],
   "source": [
    "sns.countplot(x=df1.safety_flag) #target variable seems pretty unbalanced towards FALSE. Will check again after enrichment\n",
    "                                 # imbalanced target variable can create a bias in our model\n",
    "\n",
    "df1['safety_flag'].value_counts()"
   ]
  },
  {
   "cell_type": "code",
   "execution_count": 6,
   "metadata": {},
   "outputs": [
    {
     "data": {
      "text/plain": [
       "False    10119\n",
       "True      1110\n",
       "Name: safety_flag, dtype: int64"
      ]
     },
     "execution_count": 6,
     "metadata": {},
     "output_type": "execute_result"
    }
   ],
   "source": [
    "df1['safety_flag'].value_counts() #10 to 1 ratio is not good for modelling"
   ]
  },
  {
   "cell_type": "code",
   "execution_count": 7,
   "metadata": {},
   "outputs": [],
   "source": [
    "df1['city'] = df1['city'].str.upper() #duplicate cities were appearing because some had the first letter as upper.\n",
    "df1.safety_flag=df1.safety_flag.astype(int) #target variable to numerical(0,1) for binary classification"
   ]
  },
  {
   "cell_type": "code",
   "execution_count": 8,
   "metadata": {},
   "outputs": [
    {
     "data": {
      "text/plain": [
       "3785"
      ]
     },
     "execution_count": 8,
     "metadata": {},
     "output_type": "execute_result"
    }
   ],
   "source": [
    "df1['city'].nunique() # DOWN FROM 4181 unique values "
   ]
  },
  {
   "cell_type": "code",
   "execution_count": 11,
   "metadata": {},
   "outputs": [],
   "source": [
    "df1.rename(columns = {'postcode':'post_code'}, inplace = True)"
   ]
  },
  {
   "cell_type": "code",
   "execution_count": 9,
   "metadata": {},
   "outputs": [],
   "source": [
    "analytics_up= Analytics(key=\"e561f52a11c1df40c41a34361ff4c6af\")"
   ]
  },
  {
   "cell_type": "code",
   "execution_count": 12,
   "metadata": {},
   "outputs": [
    {
     "data": {
      "text/html": [
       "<table><tr><th>Column</th><th>Status</th><th>Description</th></tr><tr><th><a href=\"https://demyst.com/docs/demyst-live/types/#street\" target=\"_blank\">street</a></th><td style=\"background-color: lightgreen\"><nobr>All Valid</nobr></td><td style=\"text-align: left\">All values in this column are good to go.</td></tr><tr><th><a href=\"https://demyst.com/docs/demyst-live/types/#state\" target=\"_blank\">state</a></th><td style=\"background-color: peachpuff\"><nobr>Some Invalid</nobr></td><td style=\"text-align: left\">16.8% of the values of this column failed validation. One example of an invalid value is 'NJ  '. <a href=\"https://demyst.com/docs/demyst-live/types/#state\" target=\"_blank\">Click here for documentation for this column.</a></td></tr><tr><th><a href=\"https://demyst.com/docs/demyst-live/types/#city\" target=\"_blank\">city</a></th><td style=\"background-color: lightgreen\"><nobr>All Valid</nobr></td><td style=\"text-align: left\">All values in this column are good to go.</td></tr><tr><th><a href=\"https://demyst.com/docs/demyst-live/types/#post_code\" target=\"_blank\">post_code</a></th><td style=\"background-color: peachpuff\"><nobr>Some Invalid</nobr></td><td style=\"text-align: left\">0.1% of the values of this column failed validation. One example of an invalid value is 'nan'. <a href=\"https://demyst.com/docs/demyst-live/types/#post_code\" target=\"_blank\">Click here for documentation for this column.</a></td></tr><tr><th>safety_flag</th><td style=\"background-color: lightpink\"><nobr>Unrecognized Column Name</nobr></td><td style=\"text-align: left\">This column name is not supported. <a href=\"https://demyst.com/docs/demyst-live/types/\" target=\"_blank\">Click here for a list of all supported column names.</a></td></tr></table>"
      ],
      "text/plain": [
       "<demyst.analytics.analytics.Validation at 0x1a22202710>"
      ]
     },
     "execution_count": 12,
     "metadata": {},
     "output_type": "execute_result"
    }
   ],
   "source": [
    "analytics_up.validate(df1)"
   ]
  },
  {
   "cell_type": "code",
   "execution_count": 14,
   "metadata": {},
   "outputs": [
    {
     "data": {
      "text/html": [
       "<div>\n",
       "<style scoped>\n",
       "    .dataframe tbody tr th:only-of-type {\n",
       "        vertical-align: middle;\n",
       "    }\n",
       "\n",
       "    .dataframe tbody tr th {\n",
       "        vertical-align: top;\n",
       "    }\n",
       "\n",
       "    .dataframe thead th {\n",
       "        text-align: right;\n",
       "    }\n",
       "</style>\n",
       "<table border=\"1\" class=\"dataframe\">\n",
       "  <thead>\n",
       "    <tr style=\"text-align: right;\">\n",
       "      <th></th>\n",
       "      <th>street</th>\n",
       "      <th>state</th>\n",
       "      <th>city</th>\n",
       "      <th>post_code</th>\n",
       "      <th>safety_flag</th>\n",
       "    </tr>\n",
       "  </thead>\n",
       "  <tbody>\n",
       "    <tr>\n",
       "      <th>9347</th>\n",
       "      <td></td>\n",
       "      <td>NaN</td>\n",
       "      <td>NaN</td>\n",
       "      <td>NaN</td>\n",
       "      <td>0</td>\n",
       "    </tr>\n",
       "    <tr>\n",
       "      <th>9388</th>\n",
       "      <td>499 Beckett Road  Suite 201B</td>\n",
       "      <td>NaN</td>\n",
       "      <td>NaN</td>\n",
       "      <td>NaN</td>\n",
       "      <td>1</td>\n",
       "    </tr>\n",
       "    <tr>\n",
       "      <th>9694</th>\n",
       "      <td></td>\n",
       "      <td>NaN</td>\n",
       "      <td>NaN</td>\n",
       "      <td>NaN</td>\n",
       "      <td>0</td>\n",
       "    </tr>\n",
       "    <tr>\n",
       "      <th>9860</th>\n",
       "      <td>5805 Sepulveda Blvd, Ste 670</td>\n",
       "      <td>CA</td>\n",
       "      <td>VAN NUYS</td>\n",
       "      <td>NaN</td>\n",
       "      <td>1</td>\n",
       "    </tr>\n",
       "    <tr>\n",
       "      <th>10528</th>\n",
       "      <td>PO Box 390183  211 Hope Street</td>\n",
       "      <td>NaN</td>\n",
       "      <td>NaN</td>\n",
       "      <td>NaN</td>\n",
       "      <td>1</td>\n",
       "    </tr>\n",
       "    <tr>\n",
       "      <th>10531</th>\n",
       "      <td></td>\n",
       "      <td>NaN</td>\n",
       "      <td>NaN</td>\n",
       "      <td>NaN</td>\n",
       "      <td>0</td>\n",
       "    </tr>\n",
       "    <tr>\n",
       "      <th>10634</th>\n",
       "      <td>200 Vesey St  Suite 24081</td>\n",
       "      <td>NaN</td>\n",
       "      <td>NaN</td>\n",
       "      <td>NaN</td>\n",
       "      <td>0</td>\n",
       "    </tr>\n",
       "    <tr>\n",
       "      <th>11129</th>\n",
       "      <td>147 Prince Street Brooklyn, NY 11201</td>\n",
       "      <td>NaN</td>\n",
       "      <td>NaN</td>\n",
       "      <td>NaN</td>\n",
       "      <td>0</td>\n",
       "    </tr>\n",
       "    <tr>\n",
       "      <th>11219</th>\n",
       "      <td>3333 Michelson Dr  Suite 300 Irvine, CA 92612</td>\n",
       "      <td>NaN</td>\n",
       "      <td>NaN</td>\n",
       "      <td>NaN</td>\n",
       "      <td>0</td>\n",
       "    </tr>\n",
       "  </tbody>\n",
       "</table>\n",
       "</div>"
      ],
      "text/plain": [
       "                                               street state      city  \\\n",
       "9347                                                    NaN       NaN   \n",
       "9388                    499 Beckett Road  Suite 201B    NaN       NaN   \n",
       "9694                                                    NaN       NaN   \n",
       "9860                    5805 Sepulveda Blvd, Ste 670   CA    VAN NUYS   \n",
       "10528                 PO Box 390183  211 Hope Street    NaN       NaN   \n",
       "10531                                                   NaN       NaN   \n",
       "10634                       200 Vesey St  Suite 24081   NaN       NaN   \n",
       "11129           147 Prince Street Brooklyn, NY 11201    NaN       NaN   \n",
       "11219  3333 Michelson Dr  Suite 300 Irvine, CA 92612    NaN       NaN   \n",
       "\n",
       "      post_code  safety_flag  \n",
       "9347        NaN            0  \n",
       "9388        NaN            1  \n",
       "9694        NaN            0  \n",
       "9860        NaN            1  \n",
       "10528       NaN            1  \n",
       "10531       NaN            0  \n",
       "10634       NaN            0  \n",
       "11129       NaN            0  \n",
       "11219       NaN            0  "
      ]
     },
     "execution_count": 14,
     "metadata": {},
     "output_type": "execute_result"
    }
   ],
   "source": [
    "df1[df1['post_code'].isnull()] #i dont see the point in filling these as the time taken to automate these would\n",
    "                               # not really benefit us in the model phase because its only 9 records so I choose to remove these"
   ]
  },
  {
   "cell_type": "code",
   "execution_count": 15,
   "metadata": {},
   "outputs": [
    {
     "data": {
      "text/html": [
       "<table><tr><th>Column</th><th>Status</th><th>Description</th></tr><tr><th><a href=\"https://demyst.com/docs/demyst-live/types/#street\" target=\"_blank\">street</a></th><td style=\"background-color: lightgreen\"><nobr>All Valid</nobr></td><td style=\"text-align: left\">All values in this column are good to go.</td></tr><tr><th><a href=\"https://demyst.com/docs/demyst-live/types/#state\" target=\"_blank\">state</a></th><td style=\"background-color: peachpuff\"><nobr>Some Invalid</nobr></td><td style=\"text-align: left\">16.7% of the values of this column failed validation. One example of an invalid value is 'NJ  '. <a href=\"https://demyst.com/docs/demyst-live/types/#state\" target=\"_blank\">Click here for documentation for this column.</a></td></tr><tr><th><a href=\"https://demyst.com/docs/demyst-live/types/#city\" target=\"_blank\">city</a></th><td style=\"background-color: lightgreen\"><nobr>All Valid</nobr></td><td style=\"text-align: left\">All values in this column are good to go.</td></tr><tr><th><a href=\"https://demyst.com/docs/demyst-live/types/#post_code\" target=\"_blank\">post_code</a></th><td style=\"background-color: lightgreen\"><nobr>All Valid</nobr></td><td style=\"text-align: left\">All values in this column are good to go.</td></tr><tr><th>safety_flag</th><td style=\"background-color: lightpink\"><nobr>Unrecognized Column Name</nobr></td><td style=\"text-align: left\">This column name is not supported. <a href=\"https://demyst.com/docs/demyst-live/types/\" target=\"_blank\">Click here for a list of all supported column names.</a></td></tr></table>"
      ],
      "text/plain": [
       "<demyst.analytics.analytics.Validation at 0x10d03f748>"
      ]
     },
     "execution_count": 15,
     "metadata": {},
     "output_type": "execute_result"
    }
   ],
   "source": [
    "df1.dropna(inplace=True)\n",
    "analytics_up.validate(df1) # still 16.7% of state values are failing. needs further investigation"
   ]
  },
  {
   "cell_type": "code",
   "execution_count": 17,
   "metadata": {},
   "outputs": [
    {
     "data": {
      "text/html": [
       "<table><tr><th>Column</th><th>Status</th><th>Description</th></tr><tr><th><a href=\"https://demyst.com/docs/demyst-live/types/#street\" target=\"_blank\">street</a></th><td style=\"background-color: lightgreen\"><nobr>All Valid</nobr></td><td style=\"text-align: left\">All values in this column are good to go.</td></tr><tr><th><a href=\"https://demyst.com/docs/demyst-live/types/#state\" target=\"_blank\">state</a></th><td style=\"background-color: peachpuff\"><nobr>Some Invalid</nobr></td><td style=\"text-align: left\">16.7% of the values of this column failed validation. One example of an invalid value is 'NJ  '. <a href=\"https://demyst.com/docs/demyst-live/types/#state\" target=\"_blank\">Click here for documentation for this column.</a></td></tr><tr><th><a href=\"https://demyst.com/docs/demyst-live/types/#city\" target=\"_blank\">city</a></th><td style=\"background-color: lightgreen\"><nobr>All Valid</nobr></td><td style=\"text-align: left\">All values in this column are good to go.</td></tr><tr><th><a href=\"https://demyst.com/docs/demyst-live/types/#post_code\" target=\"_blank\">post_code</a></th><td style=\"background-color: lightgreen\"><nobr>All Valid</nobr></td><td style=\"text-align: left\">All values in this column are good to go.</td></tr><tr><th>number</th><td style=\"background-color: lightpink\"><nobr>Not a String Column</nobr></td><td style=\"text-align: left\">You must convert this column to string type.</td></tr></table>"
      ],
      "text/plain": [
       "<demyst.analytics.analytics.Validation at 0x1a22326710>"
      ]
     },
     "execution_count": 17,
     "metadata": {},
     "output_type": "execute_result"
    }
   ],
   "source": [
    "df1.rename(columns = {'safety_flag':'number'}, inplace = True)\n",
    "\n",
    "analytics_up.validate(df1) # still failing as column should be str type"
   ]
  },
  {
   "cell_type": "code",
   "execution_count": 18,
   "metadata": {},
   "outputs": [
    {
     "data": {
      "text/html": [
       "<table><tr><th>Column</th><th>Status</th><th>Description</th></tr><tr><th><a href=\"https://demyst.com/docs/demyst-live/types/#street\" target=\"_blank\">street</a></th><td style=\"background-color: lightgreen\"><nobr>All Valid</nobr></td><td style=\"text-align: left\">All values in this column are good to go.</td></tr><tr><th><a href=\"https://demyst.com/docs/demyst-live/types/#state\" target=\"_blank\">state</a></th><td style=\"background-color: peachpuff\"><nobr>Some Invalid</nobr></td><td style=\"text-align: left\">16.7% of the values of this column failed validation. One example of an invalid value is 'NJ  '. <a href=\"https://demyst.com/docs/demyst-live/types/#state\" target=\"_blank\">Click here for documentation for this column.</a></td></tr><tr><th><a href=\"https://demyst.com/docs/demyst-live/types/#city\" target=\"_blank\">city</a></th><td style=\"background-color: lightgreen\"><nobr>All Valid</nobr></td><td style=\"text-align: left\">All values in this column are good to go.</td></tr><tr><th><a href=\"https://demyst.com/docs/demyst-live/types/#post_code\" target=\"_blank\">post_code</a></th><td style=\"background-color: lightgreen\"><nobr>All Valid</nobr></td><td style=\"text-align: left\">All values in this column are good to go.</td></tr><tr><th><a href=\"https://demyst.com/docs/demyst-live/types/#number\" target=\"_blank\">number</a></th><td style=\"background-color: lightgreen\"><nobr>All Valid</nobr></td><td style=\"text-align: left\">All values in this column are good to go.</td></tr></table>"
      ],
      "text/plain": [
       "<demyst.analytics.analytics.Validation at 0x1a222d8e10>"
      ]
     },
     "execution_count": 18,
     "metadata": {},
     "output_type": "execute_result"
    }
   ],
   "source": [
    "df1['number'] = df1['number'].astype(str)\n",
    "analytics_up.validate(df1) # finally works, now only state column is left 16.7% vakue still failing"
   ]
  },
  {
   "cell_type": "code",
   "execution_count": 21,
   "metadata": {},
   "outputs": [
    {
     "data": {
      "text/html": [
       "<table><tr><th>Column</th><th>Status</th><th>Description</th></tr><tr><th><a href=\"https://demyst.com/docs/demyst-live/types/#street\" target=\"_blank\">street</a></th><td style=\"background-color: lightgreen\"><nobr>All Valid</nobr></td><td style=\"text-align: left\">All values in this column are good to go.</td></tr><tr><th><a href=\"https://demyst.com/docs/demyst-live/types/#state\" target=\"_blank\">state</a></th><td style=\"background-color: lightgreen\"><nobr>All Valid</nobr></td><td style=\"text-align: left\">All values in this column are good to go.</td></tr><tr><th><a href=\"https://demyst.com/docs/demyst-live/types/#city\" target=\"_blank\">city</a></th><td style=\"background-color: lightgreen\"><nobr>All Valid</nobr></td><td style=\"text-align: left\">All values in this column are good to go.</td></tr><tr><th><a href=\"https://demyst.com/docs/demyst-live/types/#post_code\" target=\"_blank\">post_code</a></th><td style=\"background-color: lightgreen\"><nobr>All Valid</nobr></td><td style=\"text-align: left\">All values in this column are good to go.</td></tr><tr><th><a href=\"https://demyst.com/docs/demyst-live/types/#number\" target=\"_blank\">number</a></th><td style=\"background-color: lightgreen\"><nobr>All Valid</nobr></td><td style=\"text-align: left\">All values in this column are good to go.</td></tr></table>"
      ],
      "text/plain": [
       "<demyst.analytics.analytics.Validation at 0x1a222d8eb8>"
      ]
     },
     "execution_count": 21,
     "metadata": {},
     "output_type": "execute_result"
    }
   ],
   "source": [
    "#above you can see that NJ appears to have a space char infront of it 'NJ '<-- this needs to be removed and then we can try again\n",
    "df1['state']= df1['state'].str.replace(' ','')\n",
    "analytics_up.validate(df1)"
   ]
  },
  {
   "cell_type": "code",
   "execution_count": 27,
   "metadata": {},
   "outputs": [
    {
     "data": {
      "text/html": [
       "<div style=\"\"><div style=\"pading:10px;\"><div style=\"padding:5px\"><h1><img height=\"30\" width=\"30\" src=\"https://console.demystdata.com/assets/attom-018667395fd6d2e395ec7079d09434844d7ef98d02dac7c32e8bcb6c326145f1.svg\" style=\"display:inline-block\" /> Attom</h1><pre style=\"\">attom_expanded_profile_report</pre><p><em>Retrieve Attom's internal reference ID for a property in order to search public property records including real estate data: sale, ownership, tax, and more - for more than 150 million U.S. properties.</em></p></div><div style=\"padding: 5px;\"><table><tr><th> </th><th>country</th><th>street</th><th>post_code</th><th>city</th><th>state</th></tr><tr><td>Option 1</td><td><span style=\"font-size: 20px;\">☐</span></td><td><span style=\"font-size: 20px;\">☒</span></td><td><span style=\"font-size: 20px;\">☒</span></td><td><span style=\"font-size: 20px;\">☒</span></td><td><span style=\"font-size: 20px;\">☒</span></td></tr></table></div></div></div>"
      ],
      "text/plain": [
       "<IPython.core.display.HTML object>"
      ]
     },
     "execution_count": 27,
     "metadata": {},
     "output_type": "execute_result"
    }
   ],
   "source": [
    "# Turns out that was the issue! Now we can go ahead and search demyst platform\n",
    "\n",
    "analytics_up.search(df1)"
   ]
  },
  {
   "cell_type": "code",
   "execution_count": 49,
   "metadata": {},
   "outputs": [
    {
     "name": "stdout",
     "output_type": "stream",
     "text": [
      "Verifying providers...\n",
      "Starting enrichment...\n"
     ]
    },
    {
     "name": "stderr",
     "output_type": "stream",
     "text": [
      "attom_expanded_profile_report: Inputs are missing a field that is necessary to run this data provider\n",
      "* state: The type \"Country\" was not given in the input, but expected. Passed types: Number, City, State, PostCode, Street\n",
      "* post_code: The type \"Country\" was not given in the input, but expected. Passed types: Number, City, State, PostCode, Street\n",
      "Validation failed\n"
     ]
    }
   ],
   "source": [
    "job_id= analytics_up.enrich([\"attom_expanded_profile_report\"],df1)\n",
    "analytics_up.enrich_download_to_disk(job_id, \"output.csv\")"
   ]
  },
  {
   "cell_type": "code",
   "execution_count": 50,
   "metadata": {},
   "outputs": [],
   "source": [
    "# Therefore, I will add a new column which will have all entries as US\n",
    "df1['country']='US'"
   ]
  },
  {
   "cell_type": "code",
   "execution_count": 53,
   "metadata": {},
   "outputs": [
    {
     "name": "stdout",
     "output_type": "stream",
     "text": [
      "Verifying providers...\n",
      "Starting enrichment...\n",
      "Enrich Job ID: 9881\n"
     ]
    },
    {
     "data": {
      "application/vnd.jupyter.widget-view+json": {
       "model_id": "cf6a88f229c9420f9b380e1c88a0a8c8",
       "version_major": 2,
       "version_minor": 0
      },
      "text/html": [
       "<p>Failed to display Jupyter Widget of type <code>IntProgress</code>.</p>\n",
       "<p>\n",
       "  If you're reading this message in the Jupyter Notebook or JupyterLab Notebook, it may mean\n",
       "  that the widgets JavaScript is still loading. If this message persists, it\n",
       "  likely means that the widgets JavaScript library is either not installed or\n",
       "  not enabled. See the <a href=\"https://ipywidgets.readthedocs.io/en/stable/user_install.html\">Jupyter\n",
       "  Widgets Documentation</a> for setup instructions.\n",
       "</p>\n",
       "<p>\n",
       "  If you're reading this message in another frontend (for example, a static\n",
       "  rendering on GitHub or <a href=\"https://nbviewer.jupyter.org/\">NBViewer</a>),\n",
       "  it may mean that your frontend doesn't currently support widgets.\n",
       "</p>\n"
      ],
      "text/plain": [
       "IntProgress(value=1, max=2)"
      ]
     },
     "metadata": {},
     "output_type": "display_data"
    },
    {
     "data": {
      "application/vnd.jupyter.widget-view+json": {
       "model_id": "7023048d4db248a4b144a1025b120a30",
       "version_major": 2,
       "version_minor": 0
      },
      "text/html": [
       "<p>Failed to display Jupyter Widget of type <code>HTML</code>.</p>\n",
       "<p>\n",
       "  If you're reading this message in the Jupyter Notebook or JupyterLab Notebook, it may mean\n",
       "  that the widgets JavaScript is still loading. If this message persists, it\n",
       "  likely means that the widgets JavaScript library is either not installed or\n",
       "  not enabled. See the <a href=\"https://ipywidgets.readthedocs.io/en/stable/user_install.html\">Jupyter\n",
       "  Widgets Documentation</a> for setup instructions.\n",
       "</p>\n",
       "<p>\n",
       "  If you're reading this message in another frontend (for example, a static\n",
       "  rendering on GitHub or <a href=\"https://nbviewer.jupyter.org/\">NBViewer</a>),\n",
       "  it may mean that your frontend doesn't currently support widgets.\n",
       "</p>\n"
      ],
      "text/plain": [
       "HTML(value='Checking status...')"
      ]
     },
     "metadata": {},
     "output_type": "display_data"
    }
   ],
   "source": [
    "job_id2= analytics_up.enrich([\"attom_expanded_profile_report\"],df1[10:15])        #new job id for new df1 with column country\n",
    "analytics_up.enrich_download_to_disk(job_id2, \"output.csv\")   # using dowload to disk in order to cache it in local memory as instructed                "
   ]
  },
  {
   "cell_type": "code",
   "execution_count": null,
   "metadata": {},
   "outputs": [],
   "source": [
    "# the enrichment process was successful for the 5 records I had sent(10:15)\n",
    "# enrichment process had failed earlier when I had passed the entire df1 "
   ]
  },
  {
   "cell_type": "code",
   "execution_count": 54,
   "metadata": {},
   "outputs": [],
   "source": [
    "df3= pd.read_csv('output.csv')"
   ]
  },
  {
   "cell_type": "code",
   "execution_count": 57,
   "metadata": {},
   "outputs": [
    {
     "data": {
      "text/html": [
       "<div>\n",
       "<style scoped>\n",
       "    .dataframe tbody tr th:only-of-type {\n",
       "        vertical-align: middle;\n",
       "    }\n",
       "\n",
       "    .dataframe tbody tr th {\n",
       "        vertical-align: top;\n",
       "    }\n",
       "\n",
       "    .dataframe thead th {\n",
       "        text-align: right;\n",
       "    }\n",
       "</style>\n",
       "<table border=\"1\" class=\"dataframe\">\n",
       "  <thead>\n",
       "    <tr style=\"text-align: right;\">\n",
       "      <th></th>\n",
       "      <th>inputs.city</th>\n",
       "      <th>inputs.country</th>\n",
       "      <th>inputs.number</th>\n",
       "      <th>inputs.post_code</th>\n",
       "      <th>inputs.state</th>\n",
       "      <th>inputs.street</th>\n",
       "      <th>attom_expanded_profile_report.row_id</th>\n",
       "      <th>attom_expanded_profile_report.client_id</th>\n",
       "      <th>attom_expanded_profile_report.attom_id</th>\n",
       "      <th>attom_expanded_profile_report.error</th>\n",
       "    </tr>\n",
       "  </thead>\n",
       "  <tbody>\n",
       "    <tr>\n",
       "      <th>0</th>\n",
       "      <td>FAIRFIELD</td>\n",
       "      <td>US</td>\n",
       "      <td>0</td>\n",
       "      <td>94533-6834</td>\n",
       "      <td>CA</td>\n",
       "      <td>2385 Burgundy Way</td>\n",
       "      <td>0</td>\n",
       "      <td>NaN</td>\n",
       "      <td>156023420</td>\n",
       "      <td>NaN</td>\n",
       "    </tr>\n",
       "    <tr>\n",
       "      <th>1</th>\n",
       "      <td>DULUTH</td>\n",
       "      <td>US</td>\n",
       "      <td>0</td>\n",
       "      <td>55811-9729</td>\n",
       "      <td>MN</td>\n",
       "      <td>5956 Sunny Ln</td>\n",
       "      <td>1</td>\n",
       "      <td>NaN</td>\n",
       "      <td>141071148</td>\n",
       "      <td>NaN</td>\n",
       "    </tr>\n",
       "    <tr>\n",
       "      <th>2</th>\n",
       "      <td>REGO PARK</td>\n",
       "      <td>US</td>\n",
       "      <td>0</td>\n",
       "      <td>11374-2213</td>\n",
       "      <td>NY</td>\n",
       "      <td>9725 64th Ave</td>\n",
       "      <td>2</td>\n",
       "      <td>NaN</td>\n",
       "      <td>169759254</td>\n",
       "      <td>NaN</td>\n",
       "    </tr>\n",
       "    <tr>\n",
       "      <th>3</th>\n",
       "      <td>LACONIA</td>\n",
       "      <td>US</td>\n",
       "      <td>0</td>\n",
       "      <td>03246-2701</td>\n",
       "      <td>NH</td>\n",
       "      <td>16 Belknap St</td>\n",
       "      <td>3</td>\n",
       "      <td>NaN</td>\n",
       "      <td>155173818</td>\n",
       "      <td>NaN</td>\n",
       "    </tr>\n",
       "    <tr>\n",
       "      <th>4</th>\n",
       "      <td>MIAMI</td>\n",
       "      <td>US</td>\n",
       "      <td>0</td>\n",
       "      <td>33143-7790</td>\n",
       "      <td>FL</td>\n",
       "      <td>8215 SW 72nd Ave</td>\n",
       "      <td>4</td>\n",
       "      <td>NaN</td>\n",
       "      <td>26311336</td>\n",
       "      <td>NaN</td>\n",
       "    </tr>\n",
       "  </tbody>\n",
       "</table>\n",
       "</div>"
      ],
      "text/plain": [
       "  inputs.city inputs.country  inputs.number inputs.post_code inputs.state  \\\n",
       "0   FAIRFIELD             US              0       94533-6834           CA   \n",
       "1      DULUTH             US              0       55811-9729           MN   \n",
       "2   REGO PARK             US              0       11374-2213           NY   \n",
       "3     LACONIA             US              0       03246-2701           NH   \n",
       "4       MIAMI             US              0       33143-7790           FL   \n",
       "\n",
       "       inputs.street  attom_expanded_profile_report.row_id  \\\n",
       "0  2385 Burgundy Way                                     0   \n",
       "1      5956 Sunny Ln                                     1   \n",
       "2      9725 64th Ave                                     2   \n",
       "3      16 Belknap St                                     3   \n",
       "4   8215 SW 72nd Ave                                     4   \n",
       "\n",
       "   attom_expanded_profile_report.client_id  \\\n",
       "0                                      NaN   \n",
       "1                                      NaN   \n",
       "2                                      NaN   \n",
       "3                                      NaN   \n",
       "4                                      NaN   \n",
       "\n",
       "   attom_expanded_profile_report.attom_id  attom_expanded_profile_report.error  \n",
       "0                               156023420                                  NaN  \n",
       "1                               141071148                                  NaN  \n",
       "2                               169759254                                  NaN  \n",
       "3                               155173818                                  NaN  \n",
       "4                                26311336                                  NaN  "
      ]
     },
     "execution_count": 57,
     "metadata": {},
     "output_type": "execute_result"
    }
   ],
   "source": [
    "df3.head()"
   ]
  },
  {
   "cell_type": "code",
   "execution_count": 58,
   "metadata": {},
   "outputs": [
    {
     "name": "stdout",
     "output_type": "stream",
     "text": [
      "Verifying providers...\n"
     ]
    },
    {
     "name": "stderr",
     "output_type": "stream",
     "text": [
      "Sorry, either you mistyped the product name infutor_property_append or your organization doesn't have access to that product.\n"
     ]
    }
   ],
   "source": [
    "# as of right now I have only 2 numerical columns with my enriched data attom_id, and post_code... \n",
    "# I am going try to get the infutor data enricher whcih  might have more numerical columns which will only benefit my model.\n",
    "df4= df1[['city','post_code','state','street']] # only get the columns infutor wants\n",
    "job_id3= analytics_up.enrich([\"infutor_property_append\"],df4[10:15])        #new job id for new df1 with column country\n",
    "analytics_up.enrich_download_to_disk(job_id3, \"output1.csv\") "
   ]
  },
  {
   "cell_type": "code",
   "execution_count": null,
   "metadata": {},
   "outputs": [],
   "source": [
    "# Turns out the Search method for the library was right as it only showed me the atoms enrichment.\n",
    "# I dont have access to anything but atom so I am going to have to make do with what I got."
   ]
  },
  {
   "cell_type": "code",
   "execution_count": 62,
   "metadata": {},
   "outputs": [
    {
     "name": "stdout",
     "output_type": "stream",
     "text": [
      "Verifying providers...\n",
      "Starting enrichment...\n",
      "Enrich Job ID: 9888\n"
     ]
    },
    {
     "data": {
      "application/vnd.jupyter.widget-view+json": {
       "model_id": "a59bd27a9abb4c009104a697f968893b",
       "version_major": 2,
       "version_minor": 0
      },
      "text/html": [
       "<p>Failed to display Jupyter Widget of type <code>IntProgress</code>.</p>\n",
       "<p>\n",
       "  If you're reading this message in the Jupyter Notebook or JupyterLab Notebook, it may mean\n",
       "  that the widgets JavaScript is still loading. If this message persists, it\n",
       "  likely means that the widgets JavaScript library is either not installed or\n",
       "  not enabled. See the <a href=\"https://ipywidgets.readthedocs.io/en/stable/user_install.html\">Jupyter\n",
       "  Widgets Documentation</a> for setup instructions.\n",
       "</p>\n",
       "<p>\n",
       "  If you're reading this message in another frontend (for example, a static\n",
       "  rendering on GitHub or <a href=\"https://nbviewer.jupyter.org/\">NBViewer</a>),\n",
       "  it may mean that your frontend doesn't currently support widgets.\n",
       "</p>\n"
      ],
      "text/plain": [
       "IntProgress(value=1, max=2)"
      ]
     },
     "metadata": {},
     "output_type": "display_data"
    },
    {
     "data": {
      "application/vnd.jupyter.widget-view+json": {
       "model_id": "45d5e36e9fd545e2bead58292e4c029a",
       "version_major": 2,
       "version_minor": 0
      },
      "text/html": [
       "<p>Failed to display Jupyter Widget of type <code>HTML</code>.</p>\n",
       "<p>\n",
       "  If you're reading this message in the Jupyter Notebook or JupyterLab Notebook, it may mean\n",
       "  that the widgets JavaScript is still loading. If this message persists, it\n",
       "  likely means that the widgets JavaScript library is either not installed or\n",
       "  not enabled. See the <a href=\"https://ipywidgets.readthedocs.io/en/stable/user_install.html\">Jupyter\n",
       "  Widgets Documentation</a> for setup instructions.\n",
       "</p>\n",
       "<p>\n",
       "  If you're reading this message in another frontend (for example, a static\n",
       "  rendering on GitHub or <a href=\"https://nbviewer.jupyter.org/\">NBViewer</a>),\n",
       "  it may mean that your frontend doesn't currently support widgets.\n",
       "</p>\n"
      ],
      "text/plain": [
       "HTML(value='Checking status...')"
      ]
     },
     "metadata": {},
     "output_type": "display_data"
    }
   ],
   "source": [
    "job_id4= analytics_up.enrich([\"attom_expanded_profile_report\"],df1[:1000])     \n",
    "analytics_up.enrich_download_to_disk(job_id4, \"output2.csv\")         "
   ]
  },
  {
   "cell_type": "code",
   "execution_count": 65,
   "metadata": {},
   "outputs": [
    {
     "name": "stdout",
     "output_type": "stream",
     "text": [
      "Verifying providers...\n",
      "Starting enrichment...\n",
      "Enrich Job ID: 9890\n"
     ]
    },
    {
     "data": {
      "application/vnd.jupyter.widget-view+json": {
       "model_id": "75f677bedf864830a5553dbfb83465cf",
       "version_major": 2,
       "version_minor": 0
      },
      "text/html": [
       "<p>Failed to display Jupyter Widget of type <code>IntProgress</code>.</p>\n",
       "<p>\n",
       "  If you're reading this message in the Jupyter Notebook or JupyterLab Notebook, it may mean\n",
       "  that the widgets JavaScript is still loading. If this message persists, it\n",
       "  likely means that the widgets JavaScript library is either not installed or\n",
       "  not enabled. See the <a href=\"https://ipywidgets.readthedocs.io/en/stable/user_install.html\">Jupyter\n",
       "  Widgets Documentation</a> for setup instructions.\n",
       "</p>\n",
       "<p>\n",
       "  If you're reading this message in another frontend (for example, a static\n",
       "  rendering on GitHub or <a href=\"https://nbviewer.jupyter.org/\">NBViewer</a>),\n",
       "  it may mean that your frontend doesn't currently support widgets.\n",
       "</p>\n"
      ],
      "text/plain": [
       "IntProgress(value=1, max=2)"
      ]
     },
     "metadata": {},
     "output_type": "display_data"
    },
    {
     "data": {
      "application/vnd.jupyter.widget-view+json": {
       "model_id": "e1fb668945354f84965ccfcc6b2a211a",
       "version_major": 2,
       "version_minor": 0
      },
      "text/html": [
       "<p>Failed to display Jupyter Widget of type <code>HTML</code>.</p>\n",
       "<p>\n",
       "  If you're reading this message in the Jupyter Notebook or JupyterLab Notebook, it may mean\n",
       "  that the widgets JavaScript is still loading. If this message persists, it\n",
       "  likely means that the widgets JavaScript library is either not installed or\n",
       "  not enabled. See the <a href=\"https://ipywidgets.readthedocs.io/en/stable/user_install.html\">Jupyter\n",
       "  Widgets Documentation</a> for setup instructions.\n",
       "</p>\n",
       "<p>\n",
       "  If you're reading this message in another frontend (for example, a static\n",
       "  rendering on GitHub or <a href=\"https://nbviewer.jupyter.org/\">NBViewer</a>),\n",
       "  it may mean that your frontend doesn't currently support widgets.\n",
       "</p>\n"
      ],
      "text/plain": [
       "HTML(value='Checking status...')"
      ]
     },
     "metadata": {},
     "output_type": "display_data"
    }
   ],
   "source": [
    "# ENRICHMENT failed for df1[:11220]- saying I have insufficient credits to do so.\n",
    "# 1000 appears to work. I will try 5000,if it does not work, ill stick to 1000.\n",
    "job_id5= analytics_up.enrich([\"attom_expanded_profile_report\"],df1[:5000])     \n",
    "analytics_up.enrich_download_to_disk(job_id5, \"output3.csv\")         \n"
   ]
  },
  {
   "cell_type": "code",
   "execution_count": null,
   "metadata": {},
   "outputs": [],
   "source": [
    "# 5000 appears to have worked. I am going to take my chances and build my model off these records.\n",
    "# as this even took 10minutes to enrich.."
   ]
  },
  {
   "cell_type": "code",
   "execution_count": 19,
   "metadata": {},
   "outputs": [],
   "source": [
    "df5= pd.read_csv(\"output3.csv\")\n"
   ]
  },
  {
   "cell_type": "code",
   "execution_count": 20,
   "metadata": {},
   "outputs": [
    {
     "data": {
      "text/plain": [
       "Index(['inputs.city', 'inputs.country', 'inputs.number', 'inputs.post_code',\n",
       "       'inputs.state', 'inputs.street', 'attom_expanded_profile_report.row_id',\n",
       "       'attom_expanded_profile_report.client_id',\n",
       "       'attom_expanded_profile_report.attom_id',\n",
       "       'attom_expanded_profile_report.error'],\n",
       "      dtype='object')"
      ]
     },
     "execution_count": 20,
     "metadata": {},
     "output_type": "execute_result"
    }
   ],
   "source": [
    "df5.columns # our enriched columns"
   ]
  },
  {
   "cell_type": "code",
   "execution_count": 21,
   "metadata": {},
   "outputs": [
    {
     "name": "stdout",
     "output_type": "stream",
     "text": [
      "<class 'pandas.core.frame.DataFrame'>\n",
      "RangeIndex: 5000 entries, 0 to 4999\n",
      "Data columns (total 10 columns):\n",
      "inputs.city                                5000 non-null object\n",
      "inputs.country                             5000 non-null object\n",
      "inputs.number                              5000 non-null int64\n",
      "inputs.post_code                           5000 non-null object\n",
      "inputs.state                               5000 non-null object\n",
      "inputs.street                              5000 non-null object\n",
      "attom_expanded_profile_report.row_id       5000 non-null int64\n",
      "attom_expanded_profile_report.client_id    0 non-null float64\n",
      "attom_expanded_profile_report.attom_id     4105 non-null float64\n",
      "attom_expanded_profile_report.error        0 non-null float64\n",
      "dtypes: float64(3), int64(2), object(5)\n",
      "memory usage: 390.7+ KB\n"
     ]
    }
   ],
   "source": [
    "df5.info()   #our atom_id that we will use for our model has 895 missing records.. \n",
    "             # either I can use only those 4105 records or I could just use all 5000 and see how it goes."
   ]
  },
  {
   "cell_type": "code",
   "execution_count": 22,
   "metadata": {},
   "outputs": [],
   "source": [
    "df5=df5[['inputs.number', 'inputs.post_code',\n",
    "       'inputs.state','attom_expanded_profile_report.attom_id' ]] \n",
    "\n",
    "# These are the only columns that can be manipulated and pushed into the model\n",
    "# city,street have too many categories(uniques) and few observations for each therefore they will not work for our model\n",
    "# I will atmept to crate dummies for STATE.. will make us have more than 50 columns . but its worth a try to add state\n",
    "# Postal code will need to be numeric for the model to understand. I will remove '-' with '.' and convert the column to float\n",
    "# Will have to fill missing values in attom_id to 0 if I intend to use all 5000 records"
   ]
  },
  {
   "cell_type": "code",
   "execution_count": 23,
   "metadata": {},
   "outputs": [],
   "source": [
    "df5['attom_expanded_profile_report.attom_id'].fillna(value=0,inplace=True) # fill missing values with 0"
   ]
  },
  {
   "cell_type": "code",
   "execution_count": 24,
   "metadata": {},
   "outputs": [],
   "source": [
    "df5['inputs.post_code']= df5['inputs.post_code'].str.replace('-','.')\n",
    "\n",
    "# please ignore the error below.. I had ran the code earlier n forgot I ran it.. "
   ]
  },
  {
   "cell_type": "code",
   "execution_count": 25,
   "metadata": {},
   "outputs": [
    {
     "name": "stdout",
     "output_type": "stream",
     "text": [
      "<class 'pandas.core.frame.DataFrame'>\n",
      "RangeIndex: 5000 entries, 0 to 4999\n",
      "Data columns (total 4 columns):\n",
      "inputs.number                             5000 non-null int64\n",
      "inputs.post_code                          5000 non-null float64\n",
      "inputs.state                              5000 non-null object\n",
      "attom_expanded_profile_report.attom_id    5000 non-null float64\n",
      "dtypes: float64(2), int64(1), object(1)\n",
      "memory usage: 156.3+ KB\n"
     ]
    }
   ],
   "source": [
    "df5['inputs.post_code']=df5['inputs.post_code'].astype(float) #--> to convert 11232-2323 into 11232-2323 in float\n",
    "df5.info()"
   ]
  },
  {
   "cell_type": "code",
   "execution_count": 26,
   "metadata": {},
   "outputs": [
    {
     "data": {
      "text/plain": [
       "0    4805\n",
       "1     195\n",
       "Name: inputs.number, dtype: int64"
      ]
     },
     "execution_count": 26,
     "metadata": {},
     "output_type": "execute_result"
    }
   ],
   "source": [
    "# as we can see above all our columns are ready to go in the model except state\n",
    "# before I create dummies for state column I would like to see how balanced the target variable is now\n",
    "df5['inputs.number'].value_counts()"
   ]
  },
  {
   "cell_type": "code",
   "execution_count": 27,
   "metadata": {},
   "outputs": [],
   "source": [
    "# THIS IS A BIG problem\n",
    "# ratio right now is 24:1 .. up from before enrichment when it was something like 10:1\n",
    "# i need to find a way to oversample the True values without creating new data(more tedious process)"
   ]
  },
  {
   "cell_type": "code",
   "execution_count": 28,
   "metadata": {},
   "outputs": [
    {
     "ename": "NameError",
     "evalue": "name 'df1' is not defined",
     "output_type": "error",
     "traceback": [
      "\u001b[0;31m---------------------------------------------------------------------------\u001b[0m",
      "\u001b[0;31mNameError\u001b[0m                                 Traceback (most recent call last)",
      "\u001b[0;32m<ipython-input-28-f79c2b197841>\u001b[0m in \u001b[0;36m<module>\u001b[0;34m()\u001b[0m\n\u001b[0;32m----> 1\u001b[0;31m \u001b[0mdftrue\u001b[0m\u001b[0;34m=\u001b[0m\u001b[0mdf1\u001b[0m\u001b[0;34m[\u001b[0m\u001b[0mdf1\u001b[0m\u001b[0;34m[\u001b[0m\u001b[0;34m'number'\u001b[0m\u001b[0;34m]\u001b[0m\u001b[0;34m==\u001b[0m\u001b[0;34m'1'\u001b[0m\u001b[0;34m]\u001b[0m \u001b[0;31m#1106 rows of True.. 5000-1106=3894\u001b[0m\u001b[0;34m\u001b[0m\u001b[0;34m\u001b[0m\u001b[0m\n\u001b[0m\u001b[1;32m      2\u001b[0m                                \u001b[0;31m# Note: I am using df1 which has all schema validated and updated..\u001b[0m\u001b[0;34m\u001b[0m\u001b[0;34m\u001b[0m\u001b[0;34m\u001b[0m\u001b[0m\n",
      "\u001b[0;31mNameError\u001b[0m: name 'df1' is not defined"
     ]
    }
   ],
   "source": [
    "dftrue=df1[df1['number']=='1'] #1106 rows of True.. 5000-1106=3894\n",
    "                               # Note: I am using df1 which has all schema validated and updated.. "
   ]
  },
  {
   "cell_type": "code",
   "execution_count": 95,
   "metadata": {},
   "outputs": [],
   "source": [
    "dffalse=df1[df1['number']=='0'][:3894] #<--- using only 3894 rows...total 5000"
   ]
  },
  {
   "cell_type": "code",
   "execution_count": 96,
   "metadata": {},
   "outputs": [],
   "source": [
    "dfbalanced= pd.concat([dftrue,dffalse],ignore_index=True)\n"
   ]
  },
  {
   "cell_type": "code",
   "execution_count": 98,
   "metadata": {},
   "outputs": [
    {
     "data": {
      "text/plain": [
       "0    3894\n",
       "1    1106\n",
       "Name: number, dtype: int64"
      ]
     },
     "execution_count": 98,
     "metadata": {},
     "output_type": "execute_result"
    }
   ],
   "source": [
    "dfbalanced['number'].value_counts() #much better "
   ]
  },
  {
   "cell_type": "code",
   "execution_count": 99,
   "metadata": {},
   "outputs": [],
   "source": [
    "# That is a significant improvement from 24:1.. now it is 3.5:1\n",
    "# Unfortunately we have to enrich dfbalanced again ...\n",
    "# This should be the last time we have to enrich data..."
   ]
  },
  {
   "cell_type": "code",
   "execution_count": 117,
   "metadata": {},
   "outputs": [
    {
     "name": "stdout",
     "output_type": "stream",
     "text": [
      "Verifying providers...\n",
      "Starting enrichment...\n"
     ]
    },
    {
     "name": "stderr",
     "output_type": "stream",
     "text": [
      "Aborting due to insufficient credits.\n"
     ]
    }
   ],
   "source": [
    "job_id6= analytics_up.enrich([\"attom_expanded_profile_report\"],dfbalanced[:5000])     \n",
    "analytics_up.enrich_download_to_disk(job_id6, \"output4.csv\")         \n"
   ]
  },
  {
   "cell_type": "code",
   "execution_count": null,
   "metadata": {},
   "outputs": [],
   "source": [
    "# I have asked Harshit for more credits as balancing my target variable will be crucial for the performance of my model\n",
    "# For now I am going to continue to see how the model performs without the balanced target variable.\n",
    "# SOLUTION UPDATE: Instead of manually creating the oversampling i used sci kit learn to randomnly oversample my already enriched df5"
   ]
  },
  {
   "cell_type": "code",
   "execution_count": 29,
   "metadata": {},
   "outputs": [],
   "source": [
    "df6=df5 #--> wanted to preserve df5"
   ]
  },
  {
   "cell_type": "code",
   "execution_count": 30,
   "metadata": {},
   "outputs": [],
   "source": [
    "df7=pd.get_dummies(df6,columns=['inputs.state'],drop_first=True) #created dummy variables for each state"
   ]
  },
  {
   "cell_type": "code",
   "execution_count": 31,
   "metadata": {},
   "outputs": [
    {
     "data": {
      "text/plain": [
       "Index(['inputs.number', 'inputs.post_code',\n",
       "       'attom_expanded_profile_report.attom_id', 'inputs.state_AL',\n",
       "       'inputs.state_AR', 'inputs.state_AZ', 'inputs.state_CA',\n",
       "       'inputs.state_CO', 'inputs.state_CT', 'inputs.state_DC',\n",
       "       'inputs.state_DE', 'inputs.state_FL', 'inputs.state_GA',\n",
       "       'inputs.state_HI', 'inputs.state_IA', 'inputs.state_ID',\n",
       "       'inputs.state_IL', 'inputs.state_IN', 'inputs.state_KS',\n",
       "       'inputs.state_KY', 'inputs.state_LA', 'inputs.state_MA',\n",
       "       'inputs.state_MD', 'inputs.state_ME', 'inputs.state_MI',\n",
       "       'inputs.state_MN', 'inputs.state_MO', 'inputs.state_MS',\n",
       "       'inputs.state_MT', 'inputs.state_NC', 'inputs.state_ND',\n",
       "       'inputs.state_NE', 'inputs.state_NH', 'inputs.state_NJ',\n",
       "       'inputs.state_NM', 'inputs.state_NV', 'inputs.state_NY',\n",
       "       'inputs.state_OH', 'inputs.state_OK', 'inputs.state_OR',\n",
       "       'inputs.state_PA', 'inputs.state_RI', 'inputs.state_SC',\n",
       "       'inputs.state_SD', 'inputs.state_TN', 'inputs.state_TX',\n",
       "       'inputs.state_UT', 'inputs.state_VA', 'inputs.state_VT',\n",
       "       'inputs.state_WA', 'inputs.state_WI', 'inputs.state_WY'],\n",
       "      dtype='object')"
      ]
     },
     "execution_count": 31,
     "metadata": {},
     "output_type": "execute_result"
    }
   ],
   "source": [
    "df7.columns #our new columns thanks to dummy variables(for each state, dropping first)"
   ]
  },
  {
   "cell_type": "code",
   "execution_count": 32,
   "metadata": {},
   "outputs": [],
   "source": [
    "df8=df7[df7['inputs.number']==1]"
   ]
  },
  {
   "cell_type": "code",
   "execution_count": 34,
   "metadata": {},
   "outputs": [],
   "source": [
    "X= df8.drop(columns=['inputs.number'],axis=1)  #initiating our attributes and target\n",
    "y= df8['inputs.number']\n",
    "                              "
   ]
  },
  {
   "cell_type": "code",
   "execution_count": 35,
   "metadata": {},
   "outputs": [
    {
     "ename": "ValueError",
     "evalue": "The target 'y' needs to have more than 1 class. Got 1 class instead",
     "output_type": "error",
     "traceback": [
      "\u001b[0;31m---------------------------------------------------------------------------\u001b[0m",
      "\u001b[0;31mValueError\u001b[0m                                Traceback (most recent call last)",
      "\u001b[0;32m<ipython-input-35-88254bff31dc>\u001b[0m in \u001b[0;36m<module>\u001b[0;34m()\u001b[0m\n\u001b[1;32m      1\u001b[0m \u001b[0;32mfrom\u001b[0m \u001b[0mimblearn\u001b[0m\u001b[0;34m.\u001b[0m\u001b[0mover_sampling\u001b[0m \u001b[0;32mimport\u001b[0m \u001b[0mSMOTE\u001b[0m\u001b[0;34m,\u001b[0m \u001b[0mADASYN\u001b[0m\u001b[0;34m\u001b[0m\u001b[0;34m\u001b[0m\u001b[0m\n\u001b[0;32m----> 2\u001b[0;31m \u001b[0mX_resampled\u001b[0m\u001b[0;34m,\u001b[0m \u001b[0my_resampled\u001b[0m \u001b[0;34m=\u001b[0m \u001b[0mSMOTE\u001b[0m\u001b[0;34m(\u001b[0m\u001b[0;34m)\u001b[0m\u001b[0;34m.\u001b[0m\u001b[0mfit_resample\u001b[0m\u001b[0;34m(\u001b[0m\u001b[0mX\u001b[0m\u001b[0;34m,\u001b[0m \u001b[0my\u001b[0m\u001b[0;34m)\u001b[0m\u001b[0;34m\u001b[0m\u001b[0;34m\u001b[0m\u001b[0m\n\u001b[0m",
      "\u001b[0;32m/Applications/anaconda3/lib/python3.6/site-packages/imblearn/base.py\u001b[0m in \u001b[0;36mfit_resample\u001b[0;34m(self, X, y)\u001b[0m\n\u001b[1;32m     81\u001b[0m \u001b[0;34m\u001b[0m\u001b[0m\n\u001b[1;32m     82\u001b[0m         self.sampling_strategy_ = check_sampling_strategy(\n\u001b[0;32m---> 83\u001b[0;31m             self.sampling_strategy, y, self._sampling_type)\n\u001b[0m\u001b[1;32m     84\u001b[0m \u001b[0;34m\u001b[0m\u001b[0m\n\u001b[1;32m     85\u001b[0m         \u001b[0moutput\u001b[0m \u001b[0;34m=\u001b[0m \u001b[0mself\u001b[0m\u001b[0;34m.\u001b[0m\u001b[0m_fit_resample\u001b[0m\u001b[0;34m(\u001b[0m\u001b[0mX\u001b[0m\u001b[0;34m,\u001b[0m \u001b[0my\u001b[0m\u001b[0;34m)\u001b[0m\u001b[0;34m\u001b[0m\u001b[0;34m\u001b[0m\u001b[0m\n",
      "\u001b[0;32m/Applications/anaconda3/lib/python3.6/site-packages/imblearn/utils/_validation.py\u001b[0m in \u001b[0;36mcheck_sampling_strategy\u001b[0;34m(sampling_strategy, y, sampling_type, **kwargs)\u001b[0m\n\u001b[1;32m    429\u001b[0m     \u001b[0;32mif\u001b[0m \u001b[0mnp\u001b[0m\u001b[0;34m.\u001b[0m\u001b[0munique\u001b[0m\u001b[0;34m(\u001b[0m\u001b[0my\u001b[0m\u001b[0;34m)\u001b[0m\u001b[0;34m.\u001b[0m\u001b[0msize\u001b[0m \u001b[0;34m<=\u001b[0m \u001b[0;36m1\u001b[0m\u001b[0;34m:\u001b[0m\u001b[0;34m\u001b[0m\u001b[0;34m\u001b[0m\u001b[0m\n\u001b[1;32m    430\u001b[0m         raise ValueError(\"The target 'y' needs to have more than 1 class.\"\n\u001b[0;32m--> 431\u001b[0;31m                          \" Got {} class instead\".format(np.unique(y).size))\n\u001b[0m\u001b[1;32m    432\u001b[0m \u001b[0;34m\u001b[0m\u001b[0m\n\u001b[1;32m    433\u001b[0m     \u001b[0;32mif\u001b[0m \u001b[0msampling_type\u001b[0m \u001b[0;32min\u001b[0m \u001b[0;34m(\u001b[0m\u001b[0;34m'ensemble'\u001b[0m\u001b[0;34m,\u001b[0m \u001b[0;34m'bypass'\u001b[0m\u001b[0;34m)\u001b[0m\u001b[0;34m:\u001b[0m\u001b[0;34m\u001b[0m\u001b[0;34m\u001b[0m\u001b[0m\n",
      "\u001b[0;31mValueError\u001b[0m: The target 'y' needs to have more than 1 class. Got 1 class instead"
     ]
    }
   ],
   "source": [
    "from imblearn.over_sampling import SMOTE, ADASYN\n",
    "X_resampled, y_resampled = SMOTE().fit_resample(X, y)"
   ]
  },
  {
   "cell_type": "code",
   "execution_count": null,
   "metadata": {},
   "outputs": [],
   "source": []
  },
  {
   "cell_type": "code",
   "execution_count": 52,
   "metadata": {},
   "outputs": [],
   "source": [
    "X= df7.drop(columns=['inputs.number'],axis=1)  #initiating our attributes and target\n",
    "y= df7['inputs.number']\n",
    "                               #creating my attributes "
   ]
  },
  {
   "cell_type": "code",
   "execution_count": 37,
   "metadata": {},
   "outputs": [],
   "source": [
    "from imblearn.over_sampling import SMOTE, ADASYN\n",
    "X_resampled, y_resampled = SMOTE().fit_resample(X, y)"
   ]
  },
  {
   "cell_type": "code",
   "execution_count": null,
   "metadata": {},
   "outputs": [],
   "source": []
  },
  {
   "cell_type": "code",
   "execution_count": null,
   "metadata": {},
   "outputs": [],
   "source": []
  },
  {
   "cell_type": "code",
   "execution_count": 16,
   "metadata": {},
   "outputs": [],
   "source": [
    "from sklearn.model_selection import GridSearchCV\n",
    "def best_machine(model, parameters, X, y):                         # not final model.. just doing grid search on \n",
    "                                                                   # multiple algorithms to get the best score\n",
    "                                                                   # after which I will make the one I choose retrainable\n",
    "    grid =  GridSearchCV(model, parameters, error_score=0.)        # Just a method to automate the process of \n",
    "                                                                   # seeing what is our baseline accuracy \n",
    "    grid.fit(X,y)\n",
    "    print(grid.best_score_)\n",
    "    print(grid.best_params_)\n",
    "    print(round(grid.cv_results_['mean_fit_time'].mean(),3))\n",
    "    print(round(grid.cv_results_['mean_score_time'].mean(),3))\n",
    "    \n"
   ]
  },
  {
   "cell_type": "code",
   "execution_count": 40,
   "metadata": {},
   "outputs": [],
   "source": [
    "from sklearn.linear_model import LogisticRegression\n",
    "from sklearn.neighbors import KNeighborsClassifier\n",
    "from sklearn.ensemble import RandomForestClassifier     #importing the classifiers"
   ]
  },
  {
   "cell_type": "code",
   "execution_count": 18,
   "metadata": {},
   "outputs": [],
   "source": [
    "lr_parameters= {'C':[0.01,1,10,100],'penalty':['l1','l2']}\n",
    "knn_parameters= {'n_neighbors':[1,3,5,7,9]}\n",
    "forest_parameters= {'n_estimators':[10,50,100],'max_depth':[None,1,3,5,7]} #trial parameters to see what would work best"
   ]
  },
  {
   "cell_type": "code",
   "execution_count": 41,
   "metadata": {},
   "outputs": [],
   "source": [
    "lr=LogisticRegression()\n",
    "knn=KNeighborsClassifier()     \n",
    "forest=RandomForestClassifier()         #initiating the classifiers"
   ]
  },
  {
   "cell_type": "code",
   "execution_count": 20,
   "metadata": {},
   "outputs": [
    {
     "name": "stderr",
     "output_type": "stream",
     "text": [
      "/Applications/anaconda3/lib/python3.6/site-packages/sklearn/model_selection/_split.py:2053: FutureWarning: You should specify a value for 'cv' instead of relying on the default value. The default value will change from 3 to 5 in version 0.22.\n",
      "  warnings.warn(CV_WARNING, FutureWarning)\n"
     ]
    },
    {
     "name": "stdout",
     "output_type": "stream",
     "text": [
      "0.961\n",
      "{'n_neighbors': 5}\n",
      "0.009\n",
      "0.061\n"
     ]
    }
   ],
   "source": [
    "best_machine(knn, knn_parameters, X, y)   #not performing at all with imbalanced data"
   ]
  },
  {
   "cell_type": "code",
   "execution_count": 21,
   "metadata": {},
   "outputs": [
    {
     "name": "stderr",
     "output_type": "stream",
     "text": [
      "/Applications/anaconda3/lib/python3.6/site-packages/sklearn/model_selection/_split.py:2053: FutureWarning: You should specify a value for 'cv' instead of relying on the default value. The default value will change from 3 to 5 in version 0.22.\n",
      "  warnings.warn(CV_WARNING, FutureWarning)\n"
     ]
    },
    {
     "name": "stdout",
     "output_type": "stream",
     "text": [
      "0.961\n",
      "{'max_depth': 1, 'n_estimators': 10}\n",
      "0.176\n",
      "0.015\n"
     ]
    }
   ],
   "source": [
    "best_machine(forest, forest_parameters, X, y)   #not performing at all with imbalanced data "
   ]
  },
  {
   "cell_type": "code",
   "execution_count": 22,
   "metadata": {},
   "outputs": [],
   "source": [
    "# All models will give 0.961 accuracy as the data is 195/4805 = 0.04... 1-0.04= .96\n",
    "# Therefore my models are not performing at all.. they are just reeading the data because of highly imbalanced target variable.\n",
    "# Need to figure out a way to oversample True without having to enrich it again as I am out of credits."
   ]
  },
  {
   "cell_type": "code",
   "execution_count": 547,
   "metadata": {},
   "outputs": [],
   "source": [
    "from sklearn.datasets import make_classification\n",
    "X_train, y_train = make_classification(n_samples=5000, n_features=2, n_informative=2,\n",
    "                           n_redundant=0, n_repeated=0, n_classes=2,\n",
    "                            n_clusters_per_class=2,\n",
    "                           flip_y=0.20,\n",
    "                            weights=[0.04,0.96],\n",
    "                           class_sep=0.8, random_state=0)\n",
    "from imblearn.over_sampling import RandomOverSampler\n",
    "ros = RandomOverSampler(random_state=0)\n",
    "X_resampled, y_resampled = ros.fit_resample(X, y)\n",
    "\n",
    "\n",
    "# There are more methods to oversample my data like SMOTE which generates new samples in by interpolation\n",
    "# However, I feel like for our case a random sampler will do the job by creating more duplicate "
   ]
  },
  {
   "cell_type": "code",
   "execution_count": 548,
   "metadata": {},
   "outputs": [
    {
     "name": "stderr",
     "output_type": "stream",
     "text": [
      "/Applications/anaconda3/lib/python3.6/site-packages/sklearn/model_selection/_split.py:2053: FutureWarning: You should specify a value for 'cv' instead of relying on the default value. The default value will change from 3 to 5 in version 0.22.\n",
      "  warnings.warn(CV_WARNING, FutureWarning)\n"
     ]
    },
    {
     "name": "stdout",
     "output_type": "stream",
     "text": [
      "0.9712799167533819\n",
      "{'n_neighbors': 1}\n",
      "0.015\n",
      "0.102\n"
     ]
    }
   ],
   "source": [
    "best_machine(knn, knn_parameters, X_resampled, y_resampled) #using best_machine method with knnclassifier"
   ]
  },
  {
   "cell_type": "code",
   "execution_count": 549,
   "metadata": {},
   "outputs": [
    {
     "name": "stderr",
     "output_type": "stream",
     "text": [
      "/Applications/anaconda3/lib/python3.6/site-packages/sklearn/model_selection/_split.py:2053: FutureWarning: You should specify a value for 'cv' instead of relying on the default value. The default value will change from 3 to 5 in version 0.22.\n",
      "  warnings.warn(CV_WARNING, FutureWarning)\n"
     ]
    },
    {
     "name": "stdout",
     "output_type": "stream",
     "text": [
      "0.9809573361082206\n",
      "{'max_depth': None, 'n_estimators': 100}\n",
      "0.247\n",
      "0.022\n"
     ]
    }
   ],
   "source": [
    "best_machine(forest, forest_parameters, X_resampled, y_resampled) #using best_machine method with forest"
   ]
  },
  {
   "cell_type": "code",
   "execution_count": 550,
   "metadata": {},
   "outputs": [],
   "source": [
    "#for gridsearch .9987 is a pretty good .. considering before we were just getting .96\n"
   ]
  },
  {
   "cell_type": "code",
   "execution_count": 53,
   "metadata": {},
   "outputs": [],
   "source": [
    "#In order to fully validate our accuracy we need to apply our model to test set, and train on a train set.\n",
    "\n",
    "from sklearn.model_selection import train_test_split\n",
    "\n",
    "#X=X_resampled\n",
    "#y=y_resampled\n",
    "\n",
    "\n",
    "X_train, X_test, y_train, y_test = train_test_split(X, y, test_size=0.4, random_state=101)"
   ]
  },
  {
   "cell_type": "code",
   "execution_count": 54,
   "metadata": {},
   "outputs": [],
   "source": [
    "from imblearn.over_sampling import SMOTE, ADASYN\n",
    "X_resampled, y_resampled = SMOTE().fit_resample(X_train, y_train)"
   ]
  },
  {
   "cell_type": "code",
   "execution_count": 66,
   "metadata": {},
   "outputs": [],
   "source": [
    "knn=KNeighborsClassifier() "
   ]
  },
  {
   "cell_type": "code",
   "execution_count": 67,
   "metadata": {},
   "outputs": [
    {
     "data": {
      "text/plain": [
       "KNeighborsClassifier(algorithm='auto', leaf_size=30, metric='minkowski',\n",
       "           metric_params=None, n_jobs=None, n_neighbors=5, p=2,\n",
       "           weights='uniform')"
      ]
     },
     "execution_count": 67,
     "metadata": {},
     "output_type": "execute_result"
    }
   ],
   "source": [
    "knn.fit(X_resampled,y_resampled)"
   ]
  },
  {
   "cell_type": "code",
   "execution_count": null,
   "metadata": {},
   "outputs": [],
   "source": []
  },
  {
   "cell_type": "code",
   "execution_count": 55,
   "metadata": {},
   "outputs": [],
   "source": [
    "rlf = RandomForestClassifier(n_estimators=80, warm_start=True) # <----- model is retrainable as warm_start=True"
   ]
  },
  {
   "cell_type": "code",
   "execution_count": 56,
   "metadata": {},
   "outputs": [
    {
     "data": {
      "text/plain": [
       "RandomForestClassifier(bootstrap=True, class_weight=None, criterion='gini',\n",
       "            max_depth=None, max_features='auto', max_leaf_nodes=None,\n",
       "            min_impurity_decrease=0.0, min_impurity_split=None,\n",
       "            min_samples_leaf=1, min_samples_split=2,\n",
       "            min_weight_fraction_leaf=0.0, n_estimators=80, n_jobs=None,\n",
       "            oob_score=False, random_state=None, verbose=0, warm_start=True)"
      ]
     },
     "execution_count": 56,
     "metadata": {},
     "output_type": "execute_result"
    }
   ],
   "source": [
    "\n",
    "rlf.fit(X_resampled, y_resampled)\n"
   ]
  },
  {
   "cell_type": "code",
   "execution_count": 57,
   "metadata": {},
   "outputs": [
    {
     "data": {
      "text/plain": [
       "(5768, 51)"
      ]
     },
     "execution_count": 57,
     "metadata": {},
     "output_type": "execute_result"
    }
   ],
   "source": [
    "X_resampled.shape"
   ]
  },
  {
   "cell_type": "code",
   "execution_count": 58,
   "metadata": {},
   "outputs": [
    {
     "data": {
      "text/plain": [
       "(5768,)"
      ]
     },
     "execution_count": 58,
     "metadata": {},
     "output_type": "execute_result"
    }
   ],
   "source": [
    "y_resampled.shape"
   ]
  },
  {
   "cell_type": "code",
   "execution_count": 65,
   "metadata": {},
   "outputs": [
    {
     "data": {
      "text/plain": [
       "(2000, 51)"
      ]
     },
     "execution_count": 65,
     "metadata": {},
     "output_type": "execute_result"
    }
   ],
   "source": [
    "X_test.shape"
   ]
  },
  {
   "cell_type": "code",
   "execution_count": 563,
   "metadata": {},
   "outputs": [
    {
     "data": {
      "text/plain": [
       "(2000, 2)"
      ]
     },
     "execution_count": 563,
     "metadata": {},
     "output_type": "execute_result"
    }
   ],
   "source": [
    "from sklearn.decomposition import PCA\n",
    "pca = PCA(n_components=2)\n",
    "X_testing=pca.fit_transform(X_test)\n",
    "X_testing.shape"
   ]
  },
  {
   "cell_type": "code",
   "execution_count": 69,
   "metadata": {},
   "outputs": [],
   "source": [
    "prediction1=knn.predict(X_test)\n",
    "#prediction= rlf.predict(X_test) #to predict on a test set "
   ]
  },
  {
   "cell_type": "code",
   "execution_count": 70,
   "metadata": {},
   "outputs": [
    {
     "data": {
      "text/plain": [
       "(2000,)"
      ]
     },
     "execution_count": 70,
     "metadata": {},
     "output_type": "execute_result"
    }
   ],
   "source": [
    "prediction1.shape"
   ]
  },
  {
   "cell_type": "code",
   "execution_count": 71,
   "metadata": {},
   "outputs": [],
   "source": [
    "from sklearn.metrics import classification_report,confusion_matrix # metrics "
   ]
  },
  {
   "cell_type": "code",
   "execution_count": 72,
   "metadata": {},
   "outputs": [
    {
     "name": "stdout",
     "output_type": "stream",
     "text": [
      "              precision    recall  f1-score   support\n",
      "\n",
      "           0       0.96      0.65      0.78      1921\n",
      "           1       0.04      0.33      0.07        79\n",
      "\n",
      "   micro avg       0.64      0.64      0.64      2000\n",
      "   macro avg       0.50      0.49      0.42      2000\n",
      "weighted avg       0.92      0.64      0.75      2000\n",
      "\n"
     ]
    }
   ],
   "source": [
    "print(classification_report(y_test,prediction1)) #confusion matrix provides a more in depth view"
   ]
  },
  {
   "cell_type": "code",
   "execution_count": 73,
   "metadata": {},
   "outputs": [
    {
     "name": "stdout",
     "output_type": "stream",
     "text": [
      "[[1252  669]\n",
      " [  53   26]]\n"
     ]
    }
   ],
   "source": [
    "print(confusion_matrix(y_test,prediction1)) #confusion matrix shows only 2 records were mis classified. \n",
    "                                           # This type of accuracy on the test set is pretty good"
   ]
  },
  {
   "cell_type": "code",
   "execution_count": 517,
   "metadata": {},
   "outputs": [
    {
     "data": {
      "text/plain": [
       "array([0, 1, 0, ..., 0, 0, 1])"
      ]
     },
     "execution_count": 517,
     "metadata": {},
     "output_type": "execute_result"
    }
   ],
   "source": [
    "prediction"
   ]
  },
  {
   "cell_type": "code",
   "execution_count": 260,
   "metadata": {},
   "outputs": [],
   "source": [
    "# The randomforest classifier here presents a robust classifcation of about .996 accuracy\n",
    "# The model is retrainable as I specified warm_start= True. Which means I can keep fitting more new data.\n",
    "# It should be noted that I was only able to get a max of 5000 records enriched after a few trial n errors.\n",
    "# In order to continue building the model, more data can be enriched, for example df1[5000:10000] and\n",
    "# pushed to my rlf classifier( random forest classifier) as it can continue fitting because of the warm_start=True.\n",
    "# I would like to reiterate that the most important part of this whole process for me was Feature Engineering/Attribute\n",
    "# engineering and dealing with imbalanced data. The model will not perform at all if the attributes have not been \n",
    "# engineered correctly. The model will also not perform if there a bias in the target variable which i removed using \n",
    "# an oversampling technique called random oversampling\n",
    "# Libraries used: numpy,pandas,scikitlearn,seaborn,demyst-analytics\n",
    "########################### THANK YOU FOR READING ####################################################"
   ]
  },
  {
   "cell_type": "code",
   "execution_count": 74,
   "metadata": {},
   "outputs": [
    {
     "data": {
      "text/plain": [
       "0.49042890372234926"
      ]
     },
     "execution_count": 74,
     "metadata": {},
     "output_type": "execute_result"
    }
   ],
   "source": [
    "\n",
    "from sklearn.metrics import roc_curve, auc\n",
    "false_positive_rate, true_positive_rate, thresholds = roc_curve(y_test, prediction1)\n",
    "roc_auc = auc(false_positive_rate, true_positive_rate)\n",
    "roc_auc"
   ]
  },
  {
   "cell_type": "code",
   "execution_count": 87,
   "metadata": {},
   "outputs": [
    {
     "data": {
      "text/plain": [
       "(9548, 2)"
      ]
     },
     "execution_count": 87,
     "metadata": {},
     "output_type": "execute_result"
    }
   ],
   "source": [
    "X_resampled.shape"
   ]
  },
  {
   "cell_type": "code",
   "execution_count": 86,
   "metadata": {},
   "outputs": [
    {
     "data": {
      "text/plain": [
       "array([1, 1, 1, ..., 0, 0, 0])"
      ]
     },
     "execution_count": 86,
     "metadata": {},
     "output_type": "execute_result"
    }
   ],
   "source": [
    "y_resampled"
   ]
  },
  {
   "cell_type": "code",
   "execution_count": 95,
   "metadata": {},
   "outputs": [
    {
     "name": "stdout",
     "output_type": "stream",
     "text": [
      "<class 'pandas.core.frame.DataFrame'>\n",
      "RangeIndex: 5000 entries, 0 to 4999\n",
      "Data columns (total 52 columns):\n",
      "inputs.number                             5000 non-null int64\n",
      "inputs.post_code                          5000 non-null float64\n",
      "attom_expanded_profile_report.attom_id    5000 non-null float64\n",
      "inputs.state_AL                           5000 non-null uint8\n",
      "inputs.state_AR                           5000 non-null uint8\n",
      "inputs.state_AZ                           5000 non-null uint8\n",
      "inputs.state_CA                           5000 non-null uint8\n",
      "inputs.state_CO                           5000 non-null uint8\n",
      "inputs.state_CT                           5000 non-null uint8\n",
      "inputs.state_DC                           5000 non-null uint8\n",
      "inputs.state_DE                           5000 non-null uint8\n",
      "inputs.state_FL                           5000 non-null uint8\n",
      "inputs.state_GA                           5000 non-null uint8\n",
      "inputs.state_HI                           5000 non-null uint8\n",
      "inputs.state_IA                           5000 non-null uint8\n",
      "inputs.state_ID                           5000 non-null uint8\n",
      "inputs.state_IL                           5000 non-null uint8\n",
      "inputs.state_IN                           5000 non-null uint8\n",
      "inputs.state_KS                           5000 non-null uint8\n",
      "inputs.state_KY                           5000 non-null uint8\n",
      "inputs.state_LA                           5000 non-null uint8\n",
      "inputs.state_MA                           5000 non-null uint8\n",
      "inputs.state_MD                           5000 non-null uint8\n",
      "inputs.state_ME                           5000 non-null uint8\n",
      "inputs.state_MI                           5000 non-null uint8\n",
      "inputs.state_MN                           5000 non-null uint8\n",
      "inputs.state_MO                           5000 non-null uint8\n",
      "inputs.state_MS                           5000 non-null uint8\n",
      "inputs.state_MT                           5000 non-null uint8\n",
      "inputs.state_NC                           5000 non-null uint8\n",
      "inputs.state_ND                           5000 non-null uint8\n",
      "inputs.state_NE                           5000 non-null uint8\n",
      "inputs.state_NH                           5000 non-null uint8\n",
      "inputs.state_NJ                           5000 non-null uint8\n",
      "inputs.state_NM                           5000 non-null uint8\n",
      "inputs.state_NV                           5000 non-null uint8\n",
      "inputs.state_NY                           5000 non-null uint8\n",
      "inputs.state_OH                           5000 non-null uint8\n",
      "inputs.state_OK                           5000 non-null uint8\n",
      "inputs.state_OR                           5000 non-null uint8\n",
      "inputs.state_PA                           5000 non-null uint8\n",
      "inputs.state_RI                           5000 non-null uint8\n",
      "inputs.state_SC                           5000 non-null uint8\n",
      "inputs.state_SD                           5000 non-null uint8\n",
      "inputs.state_TN                           5000 non-null uint8\n",
      "inputs.state_TX                           5000 non-null uint8\n",
      "inputs.state_UT                           5000 non-null uint8\n",
      "inputs.state_VA                           5000 non-null uint8\n",
      "inputs.state_VT                           5000 non-null uint8\n",
      "inputs.state_WA                           5000 non-null uint8\n",
      "inputs.state_WI                           5000 non-null uint8\n",
      "inputs.state_WY                           5000 non-null uint8\n",
      "dtypes: float64(2), int64(1), uint8(49)\n",
      "memory usage: 356.5 KB\n"
     ]
    }
   ],
   "source": [
    "df7.info()"
   ]
  },
  {
   "cell_type": "code",
   "execution_count": 163,
   "metadata": {},
   "outputs": [
    {
     "data": {
      "text/plain": [
       "1718    0\n",
       "2511    0\n",
       "345     0\n",
       "2521    0\n",
       "54      1\n",
       "2866    1\n",
       "2371    0\n",
       "2952    0\n",
       "45      0\n",
       "4653    0\n",
       "891     0\n",
       "3011    0\n",
       "335     0\n",
       "3050    0\n",
       "3850    0\n",
       "834     0\n",
       "3188    0\n",
       "4675    0\n",
       "2564    0\n",
       "1866    0\n",
       "1492    0\n",
       "3720    0\n",
       "618     0\n",
       "3489    0\n",
       "2145    0\n",
       "3200    0\n",
       "4752    0\n",
       "602     0\n",
       "4665    0\n",
       "79      0\n",
       "       ..\n",
       "4668    0\n",
       "3762    0\n",
       "236     1\n",
       "4897    0\n",
       "1283    0\n",
       "2443    0\n",
       "3600    0\n",
       "2138    0\n",
       "254     0\n",
       "3987    0\n",
       "527     0\n",
       "1362    0\n",
       "4577    0\n",
       "2642    0\n",
       "4297    0\n",
       "1114    0\n",
       "1041    0\n",
       "3666    0\n",
       "4571    0\n",
       "3698    0\n",
       "412     0\n",
       "3385    0\n",
       "3057    0\n",
       "3863    0\n",
       "4165    0\n",
       "1776    0\n",
       "4269    0\n",
       "1661    0\n",
       "2410    0\n",
       "2302    0\n",
       "Name: inputs.number, Length: 2000, dtype: int64"
      ]
     },
     "execution_count": 163,
     "metadata": {},
     "output_type": "execute_result"
    }
   ],
   "source": [
    "y_test"
   ]
  },
  {
   "cell_type": "code",
   "execution_count": null,
   "metadata": {},
   "outputs": [],
   "source": []
  }
 ],
 "metadata": {
  "kernelspec": {
   "display_name": "Python 3",
   "language": "python",
   "name": "python3"
  },
  "language_info": {
   "codemirror_mode": {
    "name": "ipython",
    "version": 3
   },
   "file_extension": ".py",
   "mimetype": "text/x-python",
   "name": "python",
   "nbconvert_exporter": "python",
   "pygments_lexer": "ipython3",
   "version": "3.6.7"
  }
 },
 "nbformat": 4,
 "nbformat_minor": 2
}
